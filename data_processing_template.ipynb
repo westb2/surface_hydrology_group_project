{
 "cells": [
  {
   "cell_type": "code",
   "execution_count": 1,
   "metadata": {},
   "outputs": [],
   "source": [
    "import pandas as pd"
   ]
  },
  {
   "cell_type": "code",
   "execution_count": null,
   "metadata": {},
   "outputs": [],
   "source": [
    "basins = [\n",
    "    {\"HUC_02\": 15, \"GAGE_ID\":\t\"09480000\"},\n",
    "    {\"HUC_02\": 18, \"GAGE_ID\":\t\"11151300\"},\n",
    "    {\"HUC_02\": 18, \"GAGE_ID\":\t\"11098000\"},\n",
    "    {\"HUC_02\": 16, \"GAGE_ID\":\t\"10172700\"},\n",
    "    {\"HUC_02\": 12, \"GAGE_ID\":\t\"08194200\"},\n",
    "    {\"HUC_02\": 13, \"GAGE_ID\":\t\"08267500\"},\n",
    "    {\"HUC_02\": 10, \"GAGE_ID\":\t\"06154410\"},\n",
    "    {\"HUC_02\": 3, \"GAGE_ID\":\t\"02235200\"},\n",
    "    {\"HUC_02\": 3, \"GAGE_ID\":\t\"02177000\"},\n",
    "    {\"HUC_02\": 11, \"GAGE_ID\":\t\"07315200\"},\n",
    "    {\"HUC_02\": 17, \"GAGE_ID\":\t\"12041200\"},\n",
    "    {\"HUC_02\": 18, \"GAGE_ID\":\t\"10259000\"}\n",
    "]"
   ]
  },
  {
   "cell_type": "code",
   "execution_count": null,
   "metadata": {},
   "outputs": [],
   "source": []
  }
 ],
 "metadata": {
  "interpreter": {
   "hash": "d475992f7d4663e5ed53b7ab7ba347c5dbe2d055340facc861eb0669387368d9"
  },
  "kernelspec": {
   "display_name": "Python 3.9.7 ('hydro-systems')",
   "language": "python",
   "name": "python3"
  },
  "language_info": {
   "codemirror_mode": {
    "name": "ipython",
    "version": 3
   },
   "file_extension": ".py",
   "mimetype": "text/x-python",
   "name": "python",
   "nbconvert_exporter": "python",
   "pygments_lexer": "ipython3",
   "version": "3.9.7"
  },
  "orig_nbformat": 4
 },
 "nbformat": 4,
 "nbformat_minor": 2
}
