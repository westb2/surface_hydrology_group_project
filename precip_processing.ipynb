{
 "cells": [
  {
   "cell_type": "code",
   "execution_count": 4,
   "metadata": {},
   "outputs": [],
   "source": [
    "import pandas as pd\n",
    "import math"
   ]
  },
  {
   "cell_type": "code",
   "execution_count": 5,
   "metadata": {},
   "outputs": [],
   "source": [
    "basin_ids = [\n",
    "    \"09480000\",\n",
    "    \"11151300\",\n",
    "    \"11098000\",\n",
    "    \"10172700\",\n",
    "    \"08194200\",\n",
    "    \"08267500\",\n",
    "    \"06154410\",\n",
    "    \"02235200\",\n",
    "    \"02177000\",\n",
    "    \"07315200\",\n",
    "    \"12041200\",\n",
    "    \"10259000\"\n",
    "]"
   ]
  },
  {
   "cell_type": "code",
   "execution_count": 6,
   "metadata": {},
   "outputs": [],
   "source": [
    "file_suffix = \"_lump_cida_forcing_leap.csv\"\n",
    "file_prefix = \"data/gage_precip/\""
   ]
  },
  {
   "cell_type": "code",
   "execution_count": 28,
   "metadata": {},
   "outputs": [],
   "source": [
    "basins_data = []\n",
    "for basin_id in basin_ids:\n",
    "    file_name = file_prefix + basin_id + file_suffix\n",
    "    data = pd.read_csv(file_name)\n",
    "    # Add a water year column by adding 1 to the year if the month is october or afterwards\n",
    "    data[\"Water Year\"] = data[\"Year\"] + data[\"Mnth\"].apply(lambda x: math.floor(int(x)/10))\n",
    "    output_data = data[[\"Water Year\", \"prcp(mm/day)\"]]\n",
    "    output_data = output_data.groupby([\"Water Year\"]).mean()\n",
    "    output_data = output_data.rename(columns = {\"prcp(mm/day)\": basin_id + \" prcp(mm/day)\"})\n",
    "    basins_data.append(output_data)\n",
    "# basins_data[0]\n"
   ]
  },
  {
   "cell_type": "code",
   "execution_count": 33,
   "metadata": {},
   "outputs": [],
   "source": [
    "final_output = pd.merge(basins_data[0], basins_data[1], on=\"Water Year\")\n",
    "for i in range(2, len(basins_data)):\n",
    "    final_output = pd.merge(final_output, basins_data[i], on=\"Water Year\")\n",
    "final_output.transpose()\n",
    "final_output.to_csv(\"data/precip.csv\")"
   ]
  },
  {
   "cell_type": "code",
   "execution_count": null,
   "metadata": {},
   "outputs": [],
   "source": []
  }
 ],
 "metadata": {
  "interpreter": {
   "hash": "d475992f7d4663e5ed53b7ab7ba347c5dbe2d055340facc861eb0669387368d9"
  },
  "kernelspec": {
   "display_name": "Python 3.9.7 ('hydro-systems')",
   "language": "python",
   "name": "python3"
  },
  "language_info": {
   "codemirror_mode": {
    "name": "ipython",
    "version": 3
   },
   "file_extension": ".py",
   "mimetype": "text/x-python",
   "name": "python",
   "nbconvert_exporter": "python",
   "pygments_lexer": "ipython3",
   "version": "3.9.7"
  },
  "orig_nbformat": 4
 },
 "nbformat": 4,
 "nbformat_minor": 2
}
